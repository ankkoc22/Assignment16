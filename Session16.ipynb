{
 "cells": [
  {
   "cell_type": "code",
   "execution_count": 4,
   "metadata": {},
   "outputs": [
    {
     "name": "stdout",
     "output_type": "stream",
     "text": [
      "3.4264958230778435e-06\n"
     ]
    }
   ],
   "source": [
    "import scipy.stats as ss\n",
    "\n",
    "n = 20 \n",
    "p = 3/4   \n",
    "\n",
    "hh = ss.binom(n, p)\n",
    "print(hh.pmf(5))"
   ]
  },
  {
   "cell_type": "code",
   "execution_count": 5,
   "metadata": {},
   "outputs": [
    {
     "name": "stdout",
     "output_type": "stream",
     "text": [
      "0.029531204310523224\n"
     ]
    }
   ],
   "source": [
    "import scipy.stats as ss\n",
    "\n",
    "n = 50 \n",
    "p = 1/5   \n",
    "\n",
    "hh = ss.binom(n, p)\n",
    "print(hh.pmf(5))"
   ]
  },
  {
   "cell_type": "code",
   "execution_count": 12,
   "metadata": {},
   "outputs": [
    {
     "name": "stdout",
     "output_type": "stream",
     "text": [
      "Probability of first ball red and second ball black =  0.26666666666666666\n",
      "Probability of first ball red and second ball red =  0.13333333333333333\n",
      "Probability of first ball black and second ball black =  0.3333333333333333\n",
      "Probability of first ball black and second ball red =  0.26666666666666666\n"
     ]
    }
   ],
   "source": [
    "print(\"Probability of first ball red and second ball black = \",(4/10)*(6/9))\n",
    "print(\"Probability of first ball red and second ball red = \",(4/10)*(3/9))\n",
    "print(\"Probability of first ball black and second ball black = \",(6/10)*(5/9))\n",
    "print(\"Probability of first ball black and second ball red = \",(6/10)*(4/9))"
   ]
  },
  {
   "cell_type": "code",
   "execution_count": null,
   "metadata": {},
   "outputs": [],
   "source": []
  }
 ],
 "metadata": {
  "kernelspec": {
   "display_name": "Python 3",
   "language": "python",
   "name": "python3"
  },
  "language_info": {
   "codemirror_mode": {
    "name": "ipython",
    "version": 3
   },
   "file_extension": ".py",
   "mimetype": "text/x-python",
   "name": "python",
   "nbconvert_exporter": "python",
   "pygments_lexer": "ipython3",
   "version": "3.6.5"
  }
 },
 "nbformat": 4,
 "nbformat_minor": 2
}
